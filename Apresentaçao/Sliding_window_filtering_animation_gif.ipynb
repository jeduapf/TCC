{
 "cells": [
  {
   "cell_type": "markdown",
   "metadata": {
    "id": "fJSeHdms3Bt4"
   },
   "source": [
    "# Sliding window filtering animation gif\n",
    "\n"
   ]
  },
  {
   "cell_type": "code",
   "execution_count": 1,
   "metadata": {
    "id": "m6WgK9_K0bS3"
   },
   "outputs": [],
   "source": [
    "import numpy as np\n",
    "import matplotlib.pyplot as plt\n",
    "import matplotlib.animation as animation\n",
    "from matplotlib.animation import FuncAnimation\n",
    "from matplotlib.animation import PillowWriter\n",
    "\n",
    "plt.rcParams[\"figure.figsize\"] = (12,7)"
   ]
  },
  {
   "cell_type": "code",
   "execution_count": 2,
   "metadata": {
    "id": "3FSLrbbfHKQA"
   },
   "outputs": [],
   "source": [
    "# For this demonstration video, USE ONLY SIMETRIC FILTERS because the convoluiton is actually a cross-correlation\n",
    "def get_filter(filter_type,length_fitler):\n",
    "    if filter_type == 'mean' :\n",
    "        return np.squeeze(np.ones(length_fitler))/length_fitler\n",
    "\n",
    "def get_sliding_filter(i, filter, length_signal, length_fitler ):\n",
    "    aux = np.hstack(( np.hstack(( np.zeros(i), filter )), np.zeros(length_signal-i-length_fitler) ))\n",
    "    return aux/np.max(aux) "
   ]
  },
  {
   "cell_type": "code",
   "execution_count": 3,
   "metadata": {
    "id": "rkadYvWe4dGR"
   },
   "outputs": [],
   "source": [
    "# # Signal with noise\n",
    "# SNR = 5 # In Decibels\n",
    "# original_frequency = 10 # In Hertz\n",
    "# harmonic = 11\n",
    "# # cutting_frequency (Hz) | length_filter = length_signal*W\n",
    "# #         10                      497\n",
    "# #         20                      250\n",
    "# #         30                      167\n",
    "# #         40                      125\n",
    "# #         50                      100\n",
    "# length_fitler = 250\n",
    "# overlap = 0.75\n",
    "# total_frames = total_frames = int(length_signal/((1-overlap)*length_fitler) )\n",
    "\n",
    "# assert original_frequency/2 < length_signal, \"Your highest signal frequency is too high for the sampling frequency...\"\n",
    "# assert length_fitler < length_signal, \"The filter must be smaller than the signal!\"\n",
    "# assert total_frames < int(length_signal-length_fitler), \"Can't make a video with more frames than step...\""
   ]
  },
  {
   "cell_type": "code",
   "execution_count": 4,
   "metadata": {
    "id": "F10y7WUj6o7x"
   },
   "outputs": [],
   "source": [
    "def signals():\n",
    "\n",
    "    # Noisy signal\n",
    "    np.random.seed(1)\n",
    "    signal = np.random.rand(length_signal) + 10**(SNR/20)*( np.sin(np.linspace(0, 2* np.pi*original_frequency, length_signal))  + 0.35*np.sin(np.linspace(0, 2* np.pi*harmonic*original_frequency, length_signal)))\n",
    "    signal = signal/np.max(signal)\n",
    "\n",
    "    # Time \n",
    "    t = np.linspace(0,1,length_signal)\n",
    "\n",
    "    # Defining and generating filter\n",
    "    filter = get_filter('mean', length_fitler)\n",
    "\n",
    "    # Convolved signal\n",
    "    conv = np.convolve(signal,filter, 'valid')\n",
    "    convolved = np.hstack((np.zeros( len(signal) - len(conv) ), conv)) \n",
    "\n",
    "    return t, signal, convolved, filter\n",
    "\n",
    "def animate(i):\n",
    "\n",
    "    ax1.clear()\n",
    "    ax2.clear()\n",
    "\n",
    "    t, signal, convolved, filter = signals()\n",
    "\n",
    "    pos = int(np.ceil(length_fitler*(1-overlap)*i))\n",
    "\n",
    "#     print('i: ' + str(i))\n",
    "#     print('pos: ' + str(pos))\n",
    "    \n",
    "    legend_properties = {'weight':'bold', 'size':'x-large'}\n",
    "    \n",
    "    ax1.plot(t, signal, label = 'SNR: ' + str(SNR) + '\\nfreqs= ['+ str(original_frequency)+', '+str(5*original_frequency)+'] Hz')\n",
    "    try:\n",
    "        window = get_sliding_filter( pos, filter, length_signal, length_fitler )\n",
    "    except:\n",
    "        window = get_sliding_filter(  length_signal-length_fitler, filter, length_signal, length_fitler )\n",
    "    ax1.plot(t, window, 'r--', linewidth=3, label=str(length_fitler/length_signal)+' sec sliding window')\n",
    "    ax2.plot(t, np.hstack(( convolved[:pos], np.zeros(length_signal - pos) )), linewidth = 4, label = 'Filtered signal')\n",
    "\n",
    "    ax1.legend(loc='lower left',prop=legend_properties)\n",
    "    ax2.legend(loc='lower left',prop=legend_properties)\n",
    "    ax1.set_xlim(0, 1)\n",
    "    ax2.set_xlim(0, 1)\n",
    "    ax1.set_xlabel(\"Time (s)\")\n",
    "    ax2.set_xlabel(\"Time (s)\")\n",
    "    ax1.set_ylabel(\"Normalized Signals\")\n",
    "    ax2.set_ylabel(\"Signal Intensity\")\n",
    "    plt.tight_layout()"
   ]
  },
  {
   "cell_type": "code",
   "execution_count": 5,
   "metadata": {
    "colab": {
     "base_uri": "https://localhost:8080/"
    },
    "id": "hP8irOM8kWXN",
    "outputId": "d530f94c-e677-4280-e6b3-afc75e76132b"
   },
   "outputs": [],
   "source": [
    "# Some global variables to make things easier\n",
    "global overlap, total_frames, length_signal, length_fitler, original_frequency, harmonic, SNR, filter\n",
    "\n",
    "length_signal = 10*10**3\n",
    "\n",
    "# SNR, Base Frequency, 35% Harmonic, Window Length, Overlap\n",
    "combinations = [(20, 5, 13, 600, 0.75),\n",
    "                (5, 10, 11, 250, 0.5),\n",
    "                (5, 10, 11, 800, 0.75)]\n",
    "\n",
    "for combination in combinations: \n",
    "    \n",
    "    SNR = combination[0]\n",
    "    original_frequency = combination[1]\n",
    "    harmonic = combination[2]\n",
    "    length_fitler = combination[3]\n",
    "    overlap = combination[4]\n",
    "\n",
    "    total_frames = total_frames = int(length_signal/((1-overlap)*length_fitler) )\n",
    "\n",
    "    assert original_frequency/2 < length_signal, \"Your highest signal frequency is too high for the sampling frequency...\"\n",
    "    assert length_fitler < length_signal, \"The filter must be smaller than the signal!\"\n",
    "    assert total_frames < int(length_signal-length_fitler), \"Can't make a video with more frames than step...\"\n",
    "\n",
    "    fig, (ax1, ax2) = plt.subplots(2,1)\n",
    "\n",
    "    ani = FuncAnimation(fig, animate, total_frames, interval = 50, repeat = False)\n",
    "\n",
    "    # Save the animation as an animated GIF\n",
    "    ani.save( 'SNR_'+ str(SNR)+'freq_'+ str(original_frequency)+'harm_'+ str(harmonic)+'winlen_'+ str(length_fitler)+'overlap_'+ str(overlap)+\".gif\", dpi=300, writer=PillowWriter(fps=10))\n",
    "    plt.close()"
   ]
  }
 ],
 "metadata": {
  "colab": {
   "provenance": []
  },
  "kernelspec": {
   "display_name": "Python 3 (ipykernel)",
   "language": "python",
   "name": "python3"
  },
  "language_info": {
   "codemirror_mode": {
    "name": "ipython",
    "version": 3
   },
   "file_extension": ".py",
   "mimetype": "text/x-python",
   "name": "python",
   "nbconvert_exporter": "python",
   "pygments_lexer": "ipython3",
   "version": "3.9.12"
  }
 },
 "nbformat": 4,
 "nbformat_minor": 4
}
