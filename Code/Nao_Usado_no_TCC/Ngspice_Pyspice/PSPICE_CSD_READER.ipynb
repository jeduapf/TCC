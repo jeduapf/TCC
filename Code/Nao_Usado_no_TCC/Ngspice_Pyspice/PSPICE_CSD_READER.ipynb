{
 "cells": [
  {
   "cell_type": "code",
   "execution_count": 1,
   "id": "fcfbd341-a8d4-44b4-809c-674e8bd1645d",
   "metadata": {},
   "outputs": [],
   "source": [
    "import numpy as np\n",
    "import matplotlib.pyplot as plt\n",
    "import os\n",
    "import re"
   ]
  },
  {
   "cell_type": "code",
   "execution_count": 32,
   "id": "0980696d-3971-4601-a46d-6456cf2960c6",
   "metadata": {},
   "outputs": [],
   "source": [
    "def pspice2numpy(PATH):\n",
    "    with open(PATH, 'r') as f:\n",
    "        lines = f.readlines()\n",
    "    \n",
    "    t = []\n",
    "    measures = []\n",
    "    lista = iter(lines)\n",
    "    line = next(lista, False)\n",
    "    while line:\n",
    "\n",
    "        if line[0:2] == '#C':\n",
    "            values = re.split(\"\\s\", line)\n",
    "            t.append(float(values[1]))\n",
    "\n",
    "            line = next(lista, False)\n",
    "            measures.append([float(x) for x in re.findall(\"([\\d\\+-\\.E]+):\", line)])\n",
    "\n",
    "        line = next(lista, False) \n",
    "\n",
    "    return t, np.array(measures).T"
   ]
  },
  {
   "cell_type": "code",
   "execution_count": 33,
   "id": "ca93141f-fd2c-43a8-9684-2e3c33c8d728",
   "metadata": {},
   "outputs": [],
   "source": [
    "cwd = os.getcwd()\n",
    "file_name = 'blae'\n",
    "PATH = os.path.join(cwd, file_name)"
   ]
  },
  {
   "cell_type": "code",
   "execution_count": 34,
   "id": "0dab1803-11cd-439f-a727-c9461bbe520f",
   "metadata": {},
   "outputs": [],
   "source": [
    "PATH = \"C:/Users/jedua/Desktop/Taser/2.csd\""
   ]
  },
  {
   "cell_type": "code",
   "execution_count": 35,
   "id": "abff3f0a-f071-4939-b08e-0ef8c8a61072",
   "metadata": {},
   "outputs": [],
   "source": [
    "time, values = pspice2numpy(PATH)"
   ]
  },
  {
   "cell_type": "code",
   "execution_count": null,
   "id": "0040f495-106b-4ba1-952a-08e038feb7c4",
   "metadata": {},
   "outputs": [],
   "source": []
  }
 ],
 "metadata": {
  "kernelspec": {
   "display_name": "Python 3 (ipykernel)",
   "language": "python",
   "name": "python3"
  },
  "language_info": {
   "codemirror_mode": {
    "name": "ipython",
    "version": 3
   },
   "file_extension": ".py",
   "mimetype": "text/x-python",
   "name": "python",
   "nbconvert_exporter": "python",
   "pygments_lexer": "ipython3",
   "version": "3.9.12"
  }
 },
 "nbformat": 4,
 "nbformat_minor": 5
}
